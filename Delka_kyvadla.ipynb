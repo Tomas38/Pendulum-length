{
  "nbformat": 4,
  "nbformat_minor": 0,
  "metadata": {
    "colab": {
      "name": "Delka kyvadla.ipynb",
      "provenance": [],
      "collapsed_sections": [],
      "authorship_tag": "ABX9TyORURh24ypQwcoQpol5aMIl",
      "include_colab_link": true
    },
    "kernelspec": {
      "name": "python3",
      "display_name": "Python 3"
    }
  },
  "cells": [
    {
      "cell_type": "markdown",
      "metadata": {
        "id": "view-in-github",
        "colab_type": "text"
      },
      "source": [
        "<a href=\"https://colab.research.google.com/github/Tomas38/Pendulum-length/blob/main/Delka_kyvadla.ipynb\" target=\"_parent\"><img src=\"https://colab.research.google.com/assets/colab-badge.svg\" alt=\"Open In Colab\"/></a>"
      ]
    },
    {
      "cell_type": "markdown",
      "metadata": {
        "id": "BQm3pgzNbKeb"
      },
      "source": [
        "# Nastavení délky kyvadla"
      ]
    },
    {
      "cell_type": "markdown",
      "metadata": {
        "id": "p9wVoRKvo42A"
      },
      "source": [
        "Tento skript počítá se vzorcem pro dobu kyvu danou vzorcem pro malé kyvy:\n",
        "$$ \\tau = \\pi\\sqrt{\\dfrac{l}{g}} $$\n",
        "a s neměnným chodem - nepočítáme s variací chodu např. vlivem změny délky kyvadla v závisloti na proměnné teplotě během dne."
      ]
    },
    {
      "cell_type": "markdown",
      "metadata": {
        "id": "5O0KrUB3gKuj"
      },
      "source": [
        "## Zadání naměřených hodnot"
      ]
    },
    {
      "cell_type": "markdown",
      "metadata": {
        "id": "bGa3xzP5QGU7"
      },
      "source": [
        "Nejprve spusťte tuto buňku pro naimportování potřebných knihoven..."
      ]
    },
    {
      "cell_type": "code",
      "metadata": {
        "id": "67E12cMDcWYM"
      },
      "source": [
        "import numpy as np\n",
        "import datetime as dt"
      ],
      "execution_count": null,
      "outputs": []
    },
    {
      "cell_type": "markdown",
      "metadata": {
        "id": "2pm2qYOQC2Ue"
      },
      "source": [
        "Formát vstupních hodnot\n",
        "*   čas zadávejte ve formátu HH:MM:SS (např. 14:30:00)\n",
        "*   stoupání v milimetrech s desetinnou tečkou (např. 1.25)\n",
        "*   dobu kyvu v sekundách s desetinnou tečkou (např. 1.0)"
      ]
    },
    {
      "cell_type": "code",
      "metadata": {
        "id": "92FEJFv-rGhb",
        "cellView": "form"
      },
      "source": [
        "#@title Vstupní hodnoty\n",
        "stoupani_zavitu = 1.25 #@param {type:\"number\"}\n",
        "doba_kyvu =  1.0#@param {type:\"number\"}\n"
      ],
      "execution_count": null,
      "outputs": []
    },
    {
      "cell_type": "code",
      "metadata": {
        "id": "f4KpRLgXbtRa",
        "cellView": "form"
      },
      "source": [
        "#@title Čas začátku měření\n",
        "datum1 = \"2020-11-28\" #@param {type:\"date\"}\n",
        "cas1 = \"20:28:45\" #@param {type:\"string\"}\n",
        "T1 = dt.datetime.strptime(datum1 + '/' + cas1, '%Y-%m-%d/%H:%M:%S')\n",
        "Cas_na_hodinach1 = \"20:30:00\" #@param {type:\"string\"}\n",
        "t1 = dt.datetime.strptime(datum1 + '/' + Cas_na_hodinach1, '%Y-%m-%d/%H:%M:%S')\n"
      ],
      "execution_count": null,
      "outputs": []
    },
    {
      "cell_type": "code",
      "metadata": {
        "id": "qttFzprdfX10",
        "cellView": "form"
      },
      "source": [
        "#@title Čas konce měření\n",
        "datum2 = \"2020-11-29\" #@param {type:\"date\"}\n",
        "cas2 = \"09:13:38\" #@param {type:\"string\"}\n",
        "T2 = dt.datetime.strptime(datum2 + '/' + cas2, '%Y-%m-%d/%H:%M:%S')\n",
        "Cas_na_hodinach2 = \"09:18:00\" #@param {type:\"string\"}\n",
        "t2 = dt.datetime.strptime(datum2 + '/' + Cas_na_hodinach2, '%Y-%m-%d/%H:%M:%S')"
      ],
      "execution_count": null,
      "outputs": []
    },
    {
      "cell_type": "markdown",
      "metadata": {
        "id": "bccQ-be0D9qD"
      },
      "source": [
        "## Výpočet"
      ]
    },
    {
      "cell_type": "markdown",
      "metadata": {
        "id": "xjnYScccQMOh"
      },
      "source": [
        "...a nakonec spusťte tuto buňku pro samotným výpočet."
      ]
    },
    {
      "cell_type": "code",
      "metadata": {
        "colab": {
          "base_uri": "https://localhost:8080/"
        },
        "id": "llhq9qRycphY",
        "outputId": "fb44d731-b10b-4832-e7f4-1f5962344ae5"
      },
      "source": [
        "T = (T2 - T1).total_seconds()\n",
        "t = (t2 - t1).total_seconds()\n",
        "deltaT = (t - T)\n",
        "\n",
        "g = 9.81\n",
        "l_real = g * ((T / (T + deltaT)) / np.pi)**2\n",
        "l_teor = g * (doba_kyvu / np.pi)**2\n",
        "dl = l_teor - l_real\n",
        "n = dl / stoupani_zavitu * 1e3\n",
        "if dl < 0:\n",
        "  print('Kyvadlo je nutno ZKRÁTIT o \\t {:8.3f} mm, tj.\\n{:.2f} otoček regulační maticí.'.format(-dl * 1e3, -n))\n",
        "elif dl > 0:\n",
        "  print('Kyvadlo je nutno PRODLOUŽIT o \\t {:8.3f} mm,\\ntj. {:.2f} otoček regulační maticí.'.format(dl * 1e3, n))\n",
        "print('_______________')\n",
        "print('Zjištěná délka kyvadla   \\t {:7.2f}  mm'.format(l_real * 1e3))\n",
        "print('Teoretická délka kyvadla \\t {:7.2f}  mm'.format(l_teor * 1e3))"
      ],
      "execution_count": null,
      "outputs": [
        {
          "output_type": "stream",
          "text": [
            "Kyvadlo je nutno PRODLOUŽIT o \t    8.051 mm,\n",
            "tj. 6.44 otoček regulační maticí.\n",
            "_______________\n",
            "Zjištěná délka kyvadla   \t  985.91  mm\n",
            "Teoretická délka kyvadla \t  993.96  mm\n"
          ],
          "name": "stdout"
        }
      ]
    }
  ]
}